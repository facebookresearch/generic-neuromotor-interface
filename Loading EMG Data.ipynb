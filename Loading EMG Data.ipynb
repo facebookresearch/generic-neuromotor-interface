{
 "cells": [
  {
   "cell_type": "markdown",
   "id": "6a40d1e8-d1f5-41f4-b981-c299324167ee",
   "metadata": {},
   "source": [
    "Loader EMG Data\n",
    "==============="
   ]
  },
  {
   "cell_type": "code",
   "execution_count": 2,
   "id": "564064b6-773e-4be6-82b9-430d87d53289",
   "metadata": {},
   "outputs": [
    {
     "name": "stdout",
     "output_type": "stream",
     "text": [
      "The autoreload extension is already loaded. To reload it, use:\n",
      "  %reload_ext autoreload\n"
     ]
    }
   ],
   "source": [
    "%load_ext autoreload\n",
    "%autoreload 2\n",
    "\n",
    "\n",
    "from neuromotor_data_loading.loading import load_data"
   ]
  },
  {
   "cell_type": "markdown",
   "id": "bea70784-d9b8-4e57-8a79-8c3f6a999671",
   "metadata": {},
   "source": [
    "# Handwriting"
   ]
  },
  {
   "cell_type": "code",
   "execution_count": 5,
   "id": "5907bd01-ebb1-420f-ab11-7f4659ec5d5c",
   "metadata": {},
   "outputs": [],
   "source": [
    "fname_cc = \"/Users/rickwarren/Documents/emg_data/discrete_gestures/2022-02-04-1643984526-combined-controls-dca-right@2-0958551f-a7ff-4e0d-bc0f-f838c0f8bd1f.hdf5\"\n",
    "fname_cn = \"/Users/rickwarren/Documents/emg_data/wrist_pose/2024-04-03-1712156558-echju-mocap-wrist-angles@1.hdf5\"\n",
    "fname_hw = \"/Users/rickwarren/Documents/emg_data/handwriting/2022-10-17-1666019816-3zvc9-dca-hw-some-sensel@2.hdf5\""
   ]
  },
  {
   "cell_type": "code",
   "execution_count": 12,
   "id": "14670a7c-78f6-402c-bbc4-766ca3a90bc8",
   "metadata": {},
   "outputs": [],
   "source": [
    "cc = load_data(fname_cc)"
   ]
  },
  {
   "cell_type": "code",
   "execution_count": 17,
   "id": "4cbb339f-a410-4c8d-a868-e8f008e02b77",
   "metadata": {},
   "outputs": [
    {
     "data": {
      "text/plain": [
       "array([1.71215656e+09, 1.71215656e+09, 1.71215656e+09, ...,\n",
       "       1.71215820e+09, 1.71215820e+09, 1.71215820e+09])"
      ]
     },
     "execution_count": 17,
     "metadata": {},
     "output_type": "execute_result"
    }
   ],
   "source": [
    "cn = load_data(fname_cn)\n",
    "cn.time"
   ]
  },
  {
   "cell_type": "code",
   "execution_count": 21,
   "id": "459e4666-7250-4969-926b-ee380a0aa3f0",
   "metadata": {},
   "outputs": [
    {
     "data": {
      "text/plain": [
       "array([[-33.62821968, -18.01511907,   9.60806334, ...,  14.41209299,\n",
       "         22.81914953,   8.40705492],\n",
       "       [-65.82534045, -46.9305052 , -18.76714993, ...,   7.27900687,\n",
       "         11.72526369,   0.84323167],\n",
       "       [-62.85798151, -44.98528152, -29.92796295, ...,  -3.0776442 ,\n",
       "         -2.93696747,  -4.6815939 ],\n",
       "       ...,\n",
       "       [ -3.76494848,  -1.88385778,  -1.47145458, ...,  -7.98749775,\n",
       "        -12.43927084, -13.22805006],\n",
       "       [ -4.27850365,  -1.48723664,  -0.56888939, ..., -10.29703549,\n",
       "        -15.66619571, -14.98220554],\n",
       "       [ -0.86542852,   1.26648701,   2.5890125 , ..., -11.76170613,\n",
       "        -14.02916021, -10.99566332]])"
      ]
     },
     "execution_count": 21,
     "metadata": {},
     "output_type": "execute_result"
    }
   ],
   "source": [
    "hw = load_data(fname_hw)\n",
    "hw.emg"
   ]
  }
 ],
 "metadata": {
  "kernelspec": {
   "display_name": "Python 3 (ipykernel)",
   "language": "python",
   "name": "python3"
  },
  "language_info": {
   "codemirror_mode": {
    "name": "ipython",
    "version": 3
   },
   "file_extension": ".py",
   "mimetype": "text/x-python",
   "name": "python",
   "nbconvert_exporter": "python",
   "pygments_lexer": "ipython3",
   "version": "3.10.13"
  }
 },
 "nbformat": 4,
 "nbformat_minor": 5
}
