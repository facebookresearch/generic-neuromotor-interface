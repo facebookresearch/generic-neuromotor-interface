{
 "cells": [
  {
   "cell_type": "markdown",
   "id": "390abd4e-c7d5-4050-b165-13a746c3ffd6",
   "metadata": {},
   "source": [
    "# Wrist decoder evaluation"
   ]
  },
  {
   "cell_type": "code",
   "execution_count": null,
   "id": "28e59640-652c-46ee-bc15-2bd4abbe9105",
   "metadata": {
    "editable": true,
    "slideshow": {
     "slide_type": ""
    },
    "tags": []
   },
   "outputs": [],
   "source": [
    "import os\n",
    "import glob\n",
    "import torch\n",
    "from pytorch_lightning import Trainer\n",
    "from hydra import initialize, compose\n",
    "from hydra.utils import instantiate\n",
    "import omegaconf\n",
    "from matplotlib import pyplot as plt\n",
    "import seaborn as sns\n",
    "import h5py"
   ]
  },
  {
   "cell_type": "markdown",
   "id": "553d327a-7516-467c-8b46-ac2dd883402b",
   "metadata": {},
   "source": [
    "## Establish paths to data and model files\n",
    "\n",
    "Before running this notebook you must make sure to download the data and model checkpoint as follows:\n",
    "```\n",
    "cd ~/generic-neuromotor-interface-data\n",
    "\n",
    "./download_data.sh wrist small_subset <EMG_DATA_DIR>  # or full_data instead of small_subset\n",
    "\n",
    "./download_models.sh wrist <MODELS_DIR>\n",
    "```\n",
    "where `<EMG_DATA_DIR>` and `<MODELS_DIR>` should match the directory specified by the `EMG_DATA_DIR` and `MODELS_DIR` variables defined in the next cell."
   ]
  },
  {
   "cell_type": "code",
   "execution_count": null,
   "id": "a27c5251-2b7e-4f37-9580-52d3cef8b440",
   "metadata": {},
   "outputs": [],
   "source": [
    "EMG_DATA_DIR = \"~/emg_data/\"  # path to EMG data\n",
    "MODELS_DIR = \"~/emg_models/\"  # path to model files"
   ]
  },
  {
   "cell_type": "markdown",
   "id": "9012043a-a26f-4ebb-8d7e-7bb8394e2102",
   "metadata": {},
   "source": [
    "## Load model checkpoint and config"
   ]
  },
  {
   "cell_type": "code",
   "execution_count": null,
   "id": "94158108-3d28-4fa5-816d-b28b9a93b4dd",
   "metadata": {},
   "outputs": [],
   "source": [
    "\"\"\"Retrieve model checkpoint\"\"\"\n",
    "\n",
    "model_ckpt_path = os.path.join(os.path.expanduser(MODELS_DIR), \"wrist\", \"model_checkpoint.ckpt\")\n",
    "model_ckpt = torch.load(\n",
    "    model_ckpt_path,\n",
    "    map_location=torch.device(\"cpu\")\n",
    ")"
   ]
  },
  {
   "cell_type": "code",
   "execution_count": null,
   "id": "6a220698-0d23-45ee-843b-b82aa1e77f03",
   "metadata": {},
   "outputs": [],
   "source": [
    "\"\"\"Retrieve the config\"\"\"\n",
    "\n",
    "config_path = os.path.relpath(os.path.join(os.path.expanduser(MODELS_DIR), \"wrist\"))\n",
    "with initialize(config_path=config_path):\n",
    "    cfg = compose(config_name=\"model_config\")"
   ]
  },
  {
   "cell_type": "markdown",
   "id": "cef228a4-ca64-4954-891a-942ab5cb2e0c",
   "metadata": {},
   "source": [
    "## Instantiate model and data module"
   ]
  },
  {
   "cell_type": "code",
   "execution_count": null,
   "id": "c2e8b392-ef4f-49d5-ac09-141623835245",
   "metadata": {},
   "outputs": [],
   "source": [
    "\"\"\"Load the model\"\"\"\n",
    "\n",
    "# Instantiate model\n",
    "model = instantiate(cfg.lightning_module)\n",
    "\n",
    "# Load the checkpoint state_dict\n",
    "model.load_state_dict(model_ckpt[\"state_dict\"])"
   ]
  },
  {
   "cell_type": "code",
   "execution_count": null,
   "id": "d73d878b-7637-4017-8538-a8eacebef4c2",
   "metadata": {},
   "outputs": [],
   "source": [
    "\"\"\"Assemble the data module\"\"\"\n",
    "\n",
    "# Assemble DataModule config\n",
    "datamodule_cfg = omegaconf.OmegaConf.to_container(cfg.data_module)\n",
    "datamodule_cfg[\"data_location\"] = EMG_DATA_DIR\n",
    "if \"from_csv\" in datamodule_cfg[\"data_split\"][\"_target_\"]:\n",
    "    datamodule_cfg[\"data_split\"][\"csv_filename\"] = os.path.join(EMG_DATA_DIR, \"wrist_corpus.csv\")\n",
    "\n",
    "# Instantiate DataModule\n",
    "datamodule = instantiate(datamodule_cfg)"
   ]
  },
  {
   "cell_type": "markdown",
   "id": "35e49cd0-367f-4ceb-a29d-5ae3e5552376",
   "metadata": {},
   "source": [
    "## Run inference on one test stage"
   ]
  },
  {
   "cell_type": "code",
   "execution_count": null,
   "id": "9486dfff-2f68-48a0-9ab9-13263d65b39c",
   "metadata": {},
   "outputs": [],
   "source": [
    "\"\"\"Grab one test stage\"\"\"\n",
    "\n",
    "test_dataset = datamodule._make_dataset({\"wrist_user_002_dataset_000\": [(1713966045.6641605, 1713966207.9896057)]}, \"test\")  # from wrist_mini_split.yaml\n",
    "sample = test_dataset[0]"
   ]
  },
  {
   "cell_type": "code",
   "execution_count": null,
   "id": "debef9e4-0154-4653-9d23-f5907c54381f",
   "metadata": {},
   "outputs": [],
   "source": [
    "\"\"\"Run inference\"\"\"\n",
    "\n",
    "EMG_SAMPLING_RATE = 2000.\n",
    "\n",
    "model_output_sampling_rate = EMG_SAMPLING_RATE / model.network.stride\n",
    "\n",
    "model.eval()\n",
    "\n",
    "# unpack sample\n",
    "emg = sample[\"emg\"]\n",
    "wrist_angles = sample[\"wrist_angles\"]\n",
    "\n",
    "# compute model outputs\n",
    "with torch.no_grad():\n",
    "    predictions = model(emg.unsqueeze(0))\n",
    "\n",
    "predictions = predictions[0]\n",
    "\n",
    "# convert wrist angle units from radians to degrees\n",
    "wrist_angles = torch.rad2deg(wrist_angles)\n",
    "predictions = torch.rad2deg(predictions)\n",
    "\n",
    "# convert model predictions from displacements (deg) to velocities (deg/sec)\n",
    "predictions *= model_output_sampling_rate\n",
    "\n",
    "# estimate wrist angle velocities with the displacement across\n",
    "# adjacent wrist angle measurements\n",
    "wrist_angles_sliced = wrist_angles[:, model.network.left_context :: model.network.stride]  # slice the wrist angles at the model output sampling rate\n",
    "wirst_angle_displacements = torch.diff(wrist_angles_sliced, dim=1)\n",
    "wrist_angle_velocities = wirst_angle_displacements * model_output_sampling_rate  # convert to deg/sec\n",
    "\n",
    "# since we don't know the true displacement at the first timestep, remove the first prediction\n",
    "predictions = predictions[:, 1:]"
   ]
  },
  {
   "cell_type": "code",
   "execution_count": null,
   "id": "6329f24d-af46-49d0-b0c1-0a607000e206",
   "metadata": {},
   "outputs": [],
   "source": [
    "\"\"\"Evaluate Mean Absolute Error (MAE)\"\"\"\n",
    "\n",
    "mae = torch.mean(torch.abs(predictions - wrist_angle_velocities))\n",
    "\n",
    "print(f\"MAE on this stage: {mae:.3f} (deg/sec)\")"
   ]
  },
  {
   "cell_type": "code",
   "execution_count": null,
   "id": "384bae7e-826c-48d6-a4ed-a8f9396b6b6c",
   "metadata": {},
   "outputs": [],
   "source": [
    "\"\"\"Plot predictions and targets\"\"\"\n",
    "\n",
    "fig, axes = plt.subplots(3, 1, figsize=(12, 7.5), sharex=True, sharey=False)\n",
    "\n",
    "# plot EMG\n",
    "ax = axes[0]\n",
    "spacing = 120\n",
    "for channel_index, channel_data in enumerate(emg):\n",
    "    ax.plot(\n",
    "        torch.arange(len(channel_data)) / EMG_SAMPLING_RATE,\n",
    "        channel_data + channel_index * spacing,\n",
    "        linewidth=1,\n",
    "        color=\"0.7\",\n",
    "    )\n",
    "ax.set_ylim([-spacing, len(emg) * spacing])\n",
    "ax.set_yticks([])\n",
    "\n",
    "sns.despine(ax=ax, left=True)\n",
    "\n",
    "# wrist angles\n",
    "ax = axes[1]\n",
    "assert wrist_angles.shape[0] == 1\n",
    "ax.plot(\n",
    "    torch.arange(wrist_angles.shape[1]) / EMG_SAMPLING_RATE,\n",
    "    wrist_angles[0],\n",
    "    linewidth=1,\n",
    "    color=\"k\",\n",
    ")\n",
    "sns.despine(ax=ax)\n",
    "\n",
    "# wrist angle velocities\n",
    "ax = axes[2]\n",
    "assert wrist_angle_velocities.shape[0] == 1\n",
    "ax.plot(\n",
    "    torch.arange(wrist_angle_velocities.shape[1]) / model_output_sampling_rate,\n",
    "    wrist_angle_velocities[0],\n",
    "    linewidth=1,\n",
    "    color=\"k\",\n",
    "    label=\"ground truth\",\n",
    ")\n",
    "sns.despine(ax=ax)\n",
    "\n",
    "# model predictions\n",
    "assert predictions.shape[0] == 1\n",
    "ax.plot(\n",
    "    torch.arange(predictions.shape[1]) / model_output_sampling_rate,\n",
    "    predictions[0],\n",
    "    linewidth=2,\n",
    "    color=\"r\",\n",
    "    label=\"model predictions\",\n",
    ")\n",
    "\n",
    "ax.legend(\n",
    "    loc=\"upper left\",\n",
    "    ncols=1,\n",
    "    bbox_to_anchor=(1.0, 1.0),\n",
    "    frameon=False\n",
    ")\n",
    "ax.set_ylim([-300, 300])\n",
    "\n",
    "ax.set_xlim([145, 165])\n",
    "\n",
    "axes[0].set_ylabel(\"EMG\\n(normalized)\")\n",
    "axes[1].set_ylabel(\"wrist angle\\n(deg)\")\n",
    "axes[2].set_ylabel(\"wrist angle velocity\\n(deg / sec)\")\n",
    "axes[2].set_xlabel(\"time\\n(sec)\");"
   ]
  },
  {
   "cell_type": "markdown",
   "id": "11c6666b-f9df-4f64-9b28-f5778e1403e3",
   "metadata": {},
   "source": [
    "## Evaluate full test set\n",
    "\n",
    "Note that this requires you to have downloaded the full dataset (`full_data` instead of `small_subset`) when invoking `./download_data.sh`."
   ]
  },
  {
   "cell_type": "code",
   "execution_count": null,
   "id": "9d4db881-b2d9-476d-8590-bb700896d215",
   "metadata": {},
   "outputs": [],
   "source": [
    "trainer = Trainer()\n",
    "test_results = trainer.test(model=model, datamodule=datamodule)"
   ]
  }
 ],
 "metadata": {
  "kernelspec": {
   "display_name": "Python 3 (ipykernel)",
   "language": "python",
   "name": "python3"
  },
  "language_info": {
   "codemirror_mode": {
    "name": "ipython",
    "version": 3
   },
   "file_extension": ".py",
   "mimetype": "text/x-python",
   "name": "python",
   "nbconvert_exporter": "python",
   "pygments_lexer": "ipython3",
   "version": "3.12.7"
  }
 },
 "nbformat": 4,
 "nbformat_minor": 5
}
